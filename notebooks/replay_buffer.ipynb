{
 "cells": [
  {
   "cell_type": "code",
   "execution_count": 1,
   "metadata": {},
   "outputs": [],
   "source": [
    "import math\n",
    "\n",
    "import torch\n",
    "from tensordict import TensorDict\n",
    "\n",
    "from fabricrl.data.buffers import ReplayBuffer"
   ]
  },
  {
   "cell_type": "code",
   "execution_count": 2,
   "metadata": {},
   "outputs": [],
   "source": [
    "buf_size = 16\n",
    "seq_len = 2\n",
    "n_envs = 3\n",
    "rb = ReplayBuffer(buf_size, n_envs)"
   ]
  },
  {
   "cell_type": "code",
   "execution_count": 3,
   "metadata": {},
   "outputs": [
    {
     "data": {
      "text/plain": [
       "(torch.Size([2, 3]), torch.Size([16, 3]))"
      ]
     },
     "execution_count": 3,
     "metadata": {},
     "output_type": "execute_result"
    }
   ],
   "source": [
    "data = TensorDict(\n",
    "    {\n",
    "        \"observations\": torch.rand(seq_len, n_envs, 4),\n",
    "        \"actions\": torch.randint(0, 4, (seq_len, n_envs, 1)),\n",
    "        \"rewards\": torch.rand(seq_len, n_envs, 1),\n",
    "        \"dones\": torch.randint(0, 2, (seq_len, n_envs, 1)),\n",
    "    },\n",
    "    batch_size=[seq_len, n_envs],\n",
    ")\n",
    "data.shape, rb._buf.shape"
   ]
  },
  {
   "cell_type": "code",
   "execution_count": 4,
   "metadata": {},
   "outputs": [],
   "source": [
    "while not rb._full:\n",
    "    rb.add(data)"
   ]
  },
  {
   "cell_type": "code",
   "execution_count": 5,
   "metadata": {},
   "outputs": [
    {
     "data": {
      "text/plain": [
       "TensorDict(\n",
       "    fields={\n",
       "        actions: Tensor(shape=torch.Size([4, 3, 1]), device=cpu, dtype=torch.int64, is_shared=False),\n",
       "        dones: Tensor(shape=torch.Size([4, 3, 1]), device=cpu, dtype=torch.int64, is_shared=False),\n",
       "        next_obs: Tensor(shape=torch.Size([4, 3, 4]), device=cpu, dtype=torch.float32, is_shared=False),\n",
       "        observations: Tensor(shape=torch.Size([4, 3, 4]), device=cpu, dtype=torch.float32, is_shared=False),\n",
       "        rewards: Tensor(shape=torch.Size([4, 3, 1]), device=cpu, dtype=torch.float32, is_shared=False)},\n",
       "    batch_size=torch.Size([4, 3]),\n",
       "    device=None,\n",
       "    is_shared=False)"
      ]
     },
     "execution_count": 5,
     "metadata": {},
     "output_type": "execute_result"
    }
   ],
   "source": [
    "rb.sample(4)"
   ]
  },
  {
   "cell_type": "code",
   "execution_count": 6,
   "metadata": {},
   "outputs": [
    {
     "data": {
      "text/plain": [
       "_ViewedTensorDict(\n",
       "\tsource=TensorDict(\n",
       "\t    fields={\n",
       "\t        actions: Tensor(shape=torch.Size([16, 3, 1]), device=cpu, dtype=torch.int64, is_shared=False),\n",
       "\t        dones: Tensor(shape=torch.Size([16, 3, 1]), device=cpu, dtype=torch.int64, is_shared=False),\n",
       "\t        observations: Tensor(shape=torch.Size([16, 3, 4]), device=cpu, dtype=torch.float32, is_shared=False),\n",
       "\t        rewards: Tensor(shape=torch.Size([16, 3, 1]), device=cpu, dtype=torch.float32, is_shared=False)},\n",
       "\t    batch_size=torch.Size([16, 3]),\n",
       "\t    device=cpu,\n",
       "\t    is_shared=False), \n",
       "\top=view(size=torch.Size([48, 1])))"
      ]
     },
     "execution_count": 6,
     "metadata": {},
     "output_type": "execute_result"
    }
   ],
   "source": [
    "rb.buffer.view(math.prod(rb.buffer.shape), -1)"
   ]
  },
  {
   "cell_type": "code",
   "execution_count": 7,
   "metadata": {},
   "outputs": [],
   "source": [
    "rb[\"returns\"] = torch.rand(16, 3, 2)"
   ]
  },
  {
   "cell_type": "code",
   "execution_count": 8,
   "metadata": {},
   "outputs": [
    {
     "data": {
      "text/plain": [
       "_ViewedTensorDict(\n",
       "\tsource=TensorDict(\n",
       "\t    fields={\n",
       "\t        actions: Tensor(shape=torch.Size([16, 3, 1]), device=cpu, dtype=torch.int64, is_shared=False),\n",
       "\t        dones: Tensor(shape=torch.Size([16, 3, 1]), device=cpu, dtype=torch.int64, is_shared=False),\n",
       "\t        observations: Tensor(shape=torch.Size([16, 3, 4]), device=cpu, dtype=torch.float32, is_shared=False),\n",
       "\t        returns: Tensor(shape=torch.Size([16, 3, 2]), device=cpu, dtype=torch.float32, is_shared=False),\n",
       "\t        rewards: Tensor(shape=torch.Size([16, 3, 1]), device=cpu, dtype=torch.float32, is_shared=False)},\n",
       "\t    batch_size=torch.Size([16, 3]),\n",
       "\t    device=cpu,\n",
       "\t    is_shared=False), \n",
       "\top=view(size=torch.Size([48, 1])))"
      ]
     },
     "execution_count": 8,
     "metadata": {},
     "output_type": "execute_result"
    }
   ],
   "source": [
    "rb.buffer.view(math.prod(rb.shape), -1)"
   ]
  },
  {
   "cell_type": "code",
   "execution_count": null,
   "metadata": {},
   "outputs": [],
   "source": []
  }
 ],
 "metadata": {
  "kernelspec": {
   "display_name": "fabricrl",
   "language": "python",
   "name": "python3"
  },
  "language_info": {
   "codemirror_mode": {
    "name": "ipython",
    "version": 3
   },
   "file_extension": ".py",
   "mimetype": "text/x-python",
   "name": "python",
   "nbconvert_exporter": "python",
   "pygments_lexer": "ipython3",
   "version": "3.9.16"
  },
  "orig_nbformat": 4
 },
 "nbformat": 4,
 "nbformat_minor": 2
}
