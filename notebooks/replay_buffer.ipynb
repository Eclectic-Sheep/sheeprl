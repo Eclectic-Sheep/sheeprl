{
 "cells": [
  {
   "cell_type": "code",
   "execution_count": null,
   "metadata": {},
   "outputs": [],
   "source": [
    "import math\n",
    "\n",
    "import torch\n",
    "from tensordict import TensorDict\n",
    "\n",
    "from fabricrl.data.buffers import ReplayBuffer"
   ]
  },
  {
   "cell_type": "code",
   "execution_count": null,
   "metadata": {},
   "outputs": [],
   "source": [
    "buf_size = 16\n",
    "seq_len = 2\n",
    "n_envs = 3\n",
    "rb = ReplayBuffer(buf_size, n_envs)"
   ]
  },
  {
   "cell_type": "code",
   "execution_count": null,
   "metadata": {},
   "outputs": [],
   "source": [
    "data = TensorDict(\n",
    "    {\n",
    "        \"observations\": torch.rand(seq_len, n_envs, 4),\n",
    "        \"actions\": torch.randint(0, 4, (seq_len, n_envs, 1)),\n",
    "        \"rewards\": torch.rand(seq_len, n_envs, 1),\n",
    "        \"dones\": torch.randint(0, 2, (seq_len, n_envs, 1)),\n",
    "    },\n",
    "    batch_size=[seq_len, n_envs],\n",
    ")\n",
    "data.shape, rb._buf.shape"
   ]
  },
  {
   "cell_type": "code",
   "execution_count": null,
   "metadata": {},
   "outputs": [],
   "source": [
    "while not rb._full:\n",
    "    rb.add(data)"
   ]
  },
  {
   "cell_type": "code",
   "execution_count": null,
   "metadata": {},
   "outputs": [],
   "source": [
    "rb.sample(4)"
   ]
  },
  {
   "cell_type": "code",
   "execution_count": null,
   "metadata": {},
   "outputs": [],
   "source": [
    "rb.buffer.view(math.prod(rb.buffer.shape), -1)"
   ]
  },
  {
   "cell_type": "code",
   "execution_count": null,
   "metadata": {},
   "outputs": [],
   "source": [
    "rb[\"returns\"] = torch.rand(16, 3, 2)"
   ]
  },
  {
   "cell_type": "code",
   "execution_count": null,
   "metadata": {},
   "outputs": [],
   "source": [
    "rb.buffer.view(math.prod(rb.shape), -1)"
   ]
  },
  {
   "cell_type": "code",
   "execution_count": null,
   "metadata": {},
   "outputs": [],
   "source": []
  }
 ],
 "metadata": {
  "kernelspec": {
   "display_name": "fabricrl",
   "language": "python",
   "name": "python3"
  },
  "language_info": {
   "codemirror_mode": {
    "name": "ipython",
    "version": 3
   },
   "file_extension": ".py",
   "mimetype": "text/x-python",
   "name": "python",
   "nbconvert_exporter": "python",
   "pygments_lexer": "ipython3",
   "version": "3.9.16"
  },
  "orig_nbformat": 4
 },
 "nbformat": 4,
 "nbformat_minor": 2
}
